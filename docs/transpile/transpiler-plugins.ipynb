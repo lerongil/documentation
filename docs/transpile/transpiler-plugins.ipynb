{
 "cells": [
  {
   "cell_type": "markdown",
   "metadata": {},
   "source": [
    "# Transpiler plugins\n",
    "\n",
    "Qiskit's transpilation functionality is designed to be modular. There is modularity at two levels:\n",
    "\n",
    "- Stages of a [staged pass manager](/api/qiskit/qiskit.transpiler.StagedPassManager) can be replaced or augmented with a [pass manager](/api/qiskit/qiskit.transpiler.PassManager) of your choice. For example, as explained in [Custom pass managers](custom-pass-managers#create-your-own-staged-pass-manager), you can generate a preset staged pass manager using the [`generate_preset_pass_manager`](/api/qiskit/transpiler_preset#qiskit.transpiler.preset_passmanagers.generate_preset_pass_manager) function, and then insert a `pre_layout` stage that runs before the default `layout` stage.\n",
    "- [Transpilation passes](/api/qiskit/transpiler_passes) with the same purpose can be substituted for one another. For example, to map abstract circuit qubits to physical device qubits, you can choose to use the [TrivialLayout](/api/qiskit/qiskit.transpiler.passes.TrivialLayout) pass if you already know which qubits you want to use, or you can use the [VF2Layout](/api/qiskit/qiskit.transpiler.passes.VF2Layout) pass to automatically pick a set of qubits for you.\n",
    "\n",
    "While Qiskit includes many useful transpilation passes and has reasonable presets for creating staged pass managers, the subject of quantum circuit transpilation is a vast field of research, and what's included in Qiskit proper cannot cover all possible use cases. To facilitate the development and reuse of custom transpilation code by the wider community of Qiskit users, Qiskit supports a plugin interface that enables third-party software libraries to declare that they provide extended transpilation functionality accessible via Qiskit.\n",
    "\n",
    "Currently, third-party plugins can provide extended transpilation functionality in two ways:\n",
    "\n",
    "- A [transpiler stage plugin](/api/qiskit/transpiler_plugins) provides a pass manager that can be used in place of one of the 6 stages of a preset staged pass manager: `init`, `layout`, `routing`, `translation`, `optimization`, and `scheduling`.\n",
    "- A [synthesis plugin](/api/qiskit/transpiler_synthesis_plugins) provides a transpiler pass for gate synthesis.\n",
    "\n",
    "In the rest of this page, we'll discuss how to use and create third-party plugins."
   ]
  },
  {
   "cell_type": "markdown",
   "metadata": {},
   "source": [
    "## Transpiler stage plugins\n",
    "\n",
    "The transpiler stages included with Qiskit are themselves implemented as plugins. To see what transpiler stage plugins are available, use the [list_stage_plugins](/api/qiskit/transpiler_plugins#qiskit.transpiler.preset_passmanagers.plugin.list_stage_plugins) function:"
   ]
  },
  {
   "cell_type": "code",
   "execution_count": 1,
   "metadata": {},
   "outputs": [
    {
     "name": "stdout",
     "output_type": "stream",
     "text": [
      "['basic', 'lookahead', 'none', 'sabre', 'stochastic']\n"
     ]
    }
   ],
   "source": [
    "from qiskit.transpiler.preset_passmanagers.plugin import list_stage_plugins\n",
    "\n",
    "print(list_stage_plugins(\"routing\"))"
   ]
  },
  {
   "cell_type": "markdown",
   "metadata": {},
   "source": [
    "This list contains the names of all transpiler stage plugins included with Qiskit, as well as any plugins provided by third-party packages. An example of a third-party package providing a transpiler stage plugin is [Qiskit TOQM](https://github.com/qiskit-toqm/qiskit-toqm). If this package is installed (e.g. via `pip install qiskit-toqm`), then `toqm` will appear in the list.\n",
    "\n",
    "To use a plugin, specify its name with the appropriate argument to `generate_preset_pass_manager`. For example, to use the `sabre` routing plugin, we would specify `sabre` for the `routing_method` argument:"
   ]
  },
  {
   "cell_type": "code",
   "execution_count": 2,
   "metadata": {},
   "outputs": [],
   "source": [
    "from qiskit.transpiler.preset_passmanagers import generate_preset_pass_manager\n",
    "from qiskit_ibm_runtime import QiskitRuntimeService\n",
    "\n",
    "service = QiskitRuntimeService()\n",
    "backend = service.backend(\"ibm_brisbane\")\n",
    "\n",
    "pass_manager = generate_preset_pass_manager(\n",
    "    optimization_level=3, backend=backend, routing_method=\"sabre\"\n",
    ")"
   ]
  },
  {
   "cell_type": "markdown",
   "metadata": {},
   "source": [
    "## Synthesis plugins"
   ]
  },
  {
   "cell_type": "code",
   "execution_count": 3,
   "metadata": {},
   "outputs": [
    {
     "data": {
      "text/plain": [
       "['aqc', 'default', 'sk']"
      ]
     },
     "execution_count": 3,
     "metadata": {},
     "output_type": "execute_result"
    }
   ],
   "source": [
    "from qiskit.transpiler.passes.synthesis.plugin import unitary_synthesis_plugin_names\n",
    "\n",
    "unitary_synthesis_plugin_names()"
   ]
  },
  {
   "cell_type": "code",
   "execution_count": 4,
   "metadata": {},
   "outputs": [],
   "source": [
    "pass_manager = generate_preset_pass_manager(\n",
    "    optimization_level=3, backend=backend, unitary_synthesis_method=\"sk\"\n",
    ")"
   ]
  },
  {
   "cell_type": "code",
   "execution_count": 5,
   "metadata": {},
   "outputs": [
    {
     "name": "stderr",
     "output_type": "stream",
     "text": [
      "/home/kjs/.local/share/virtualenvs/documentation--fuetTj0/lib/python3.10/site-packages/qiskit/visualization/circuit/matplotlib.py:266: FutureWarning: The default matplotlib drawer scheme will be changed to \"iqp\" in a following release. To silence this warning, specify the current default explicitly as style=\"clifford\", or the new default as style=\"iqp\".\n",
      "  self._style, def_font_ratio = load_style(self._style)\n"
     ]
    },
    {
     "data": {
      "image/png": "[encoded data removed]",
      "text/plain": [
       "<Figure size 943.283x200.667 with 1 Axes>"
      ]
     },
     "execution_count": 5,
     "metadata": {},
     "output_type": "execute_result"
    }
   ],
   "source": [
    "from qiskit import QuantumCircuit, QuantumRegister\n",
    "\n",
    "qubits = QuantumRegister(2, name=\"q\")\n",
    "circuit = QuantumCircuit(qubits)\n",
    "\n",
    "a, b = qubits\n",
    "circuit.h(a)\n",
    "circuit.cx(a, b)\n",
    "\n",
    "transpiled = pass_manager.run(circuit)\n",
    "\n",
    "transpiled.draw(\"mpl\", idle_wires=False)"
   ]
  },
  {
   "cell_type": "code",
   "execution_count": 6,
   "metadata": {},
   "outputs": [
    {
     "data": {
      "text/plain": [
       "['ag', 'bm', 'default', 'greedy', 'layers', 'lnn']"
      ]
     },
     "execution_count": 6,
     "metadata": {},
     "output_type": "execute_result"
    }
   ],
   "source": [
    "from qiskit.transpiler.passes.synthesis.plugin import HighLevelSynthesisPluginManager\n",
    "\n",
    "HighLevelSynthesisPluginManager().method_names(\"clifford\")"
   ]
  },
  {
   "cell_type": "markdown",
   "metadata": {},
   "source": [
    "## Creating a plugin"
   ]
  }
 ],
 "metadata": {
  "kernelspec": {
   "display_name": "documentation--fuetTj0",
   "language": "python",
   "name": "python3"
  },
  "language_info": {
   "codemirror_mode": {
    "name": "ipython",
    "version": 3
   },
   "file_extension": ".py",
   "mimetype": "text/x-python",
   "name": "python",
   "nbconvert_exporter": "python",
   "pygments_lexer": "ipython3",
   "version": "3.10.12"
  }
 },
 "nbformat": 4,
 "nbformat_minor": 2
}
