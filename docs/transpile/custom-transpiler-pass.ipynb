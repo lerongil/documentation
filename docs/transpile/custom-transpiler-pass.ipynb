{
 "cells": [
  {
   "cell_type": "markdown",
   "metadata": {},
   "source": [
    "# Write a custom transpiler pass\n",
    "\n",
    "Qiskit lets you create custom transpilation passes and run them in the `PassManager` object or add them to a `StagedPassMager`. Here we will demonstrate how to write a  transpiler pass, focusing on building a pass that performs [Pauli twirling](https://arxiv.org/abs/quant-ph/0606161) on the noisy quantum gates in a quantum circuit. This example uses the DAG, which is the object manipulated by the `TransformationPass` type of pass.\n"
   ]
  },
  {
   "cell_type": "markdown",
   "metadata": {},
   "source": [
    "<details>\n",
    "  <summary>\n",
    "    Background: DAG Representation\n",
    "  </summary>\n",
    "\n",
    "Before building a pass it is important to introduce the internal representation of quantum circuits in Qiskit, the [directed acyclic graph (DAG)](../api/qiskit/qiskit.dagcircuit.DAGCircuit) (see [this tutorial](https://qiskit.org/ecosystem/rustworkx/tutorial/dags.html) for an overview).  To follow these steps, install the `graphivz` library for the DAG plotting functions.  Use a python package manager (such as `pip` or `conda`) to install `pydot` and your system's native package manager (for example, `apt`, `brew`, `yum`, or `dnf`) for `graphivz`.\n",
    "\n",
    "In Qiskit, within the transpilation stages, circuits are represented using a DAG.  In general, a DAG is composed of *vertices* (also known as \"nodes\") and directed *edges* that connect pairs of vertices in a particular orientation.  This representation is stored using `qiskit.dagcircuit.DAGCircuit` objects that are composed of invididual `DagNode` objects.  The advantage of this representation over a pure list of gates (that is, a *netlist*) is that the flow of information between operations is explicit, making it easier to make transformation decisions.  \n",
    "\n",
    "This example illustrates the DAG by creating a simple circuit that prepares a Bell state and applies an $R_Z$ rotation, depending on the measurement outcome.\n",
    "\n",
    "```python\n",
    "  from qiskit import QuantumRegister, ClassicalRegister, QuantumCircuit\n",
    "  import numpy as np\n",
    "  \n",
    "  qr = QuantumRegister(3, 'qr')\n",
    "  cr = ClassicalRegister(3, 'cr')\n",
    "  qc = QuantumCircuit(qr, cr)\n",
    "\n",
    "  qc.h(qr[0])\n",
    "  qc.cx(qr[0], qr[1])\n",
    "  qc.measure(qr[0], cr[0])\n",
    "  qc.rz(np.pi/2, qr[1]).c_if(cr, 2)\n",
    "  qc.draw(output='mpl', style='iqp')\n",
    "\n",
    "```\n",
    "![](/images/transpile/custom-transpiler-pass/DAG_circ.png)\n",
    "\n",
    "Use the `qiskit.tools.visualization.dag_drawer()` function to view this circuit's DAG.  There are three kinds of graph nodes: qubit/clbit nodes (green), operation nodes (blue), and output nodes (red).  Each edge indicates data flow (or dependency) between two nodes.\n",
    "\n",
    "```python\n",
    "from qiskit.converters import circuit_to_dag\n",
    "from qiskit.tools.visualization import dag_drawer\n",
    "\n",
    "dag = circuit_to_dag(qc)\n",
    "dag_drawer(dag)\n",
    "```\n",
    "![](/images/transpile/custom-transpiler-pass/DAG.png)\n",
    "</details>"
   ]
  },
  {
   "cell_type": "markdown",
   "metadata": {},
   "source": [
    "## Transpiler Passes\n",
    "\n",
    "Transpiler passes are classified as analysis or transformation passes. Passes in general work with the [DAG](../api/qiskit/qiskit.dagcircuit.DAGCircuit) and the `property_set`, a dictionary-like object for storing properties determined by analysis passes. Analysis passes work with the DAG but cannot modify it. This contrasts with transformation passes, which do modify the DAG, and can read (but not write to) `property_set`. "
   ]
  },
  {
   "cell_type": "markdown",
   "metadata": {},
   "source": [
    "## Create a `PauliTwirl` transpiler pass\n",
    "\n",
    "The following example constructs a transpiler pass that adds Pauli twirls. [Pauli twirling](https://arxiv.org/abs/quant-ph/0606161) is an error suppression strategy that randomizes how qubits experience noisy channels, which we assume to be two-qubit gates in this example (because they are much more error-prone than single-qubit gates). The Pauli twirls do not affect the two-qubit gates' operation. They are chosen such that those applied *before* the two-qubit gate (to the left) are countered by those applied *after* the two-qubit gate (to the right). In this sense, the two-qubit operations are identical, but the way they are performed is different. One benefit of Pauli twirling is that it turns coherent errors into stochastic errors, which can be improved by averaging more.\n",
    "\n",
    "Transpiler passes act on the [DAG](../api/qiskit/qiskit.dagcircuit.DAGCircuit), so the important method to override is `.run()`, which takes the DAG as input. Initializing pairs Paulis as shown preserves the operation of each two-qubit gate. This is done with the helper method `build_twirl_set`, which goes through each two-qubit Pauli (as obtained from `pauli_basis(2)`) and finds the other Pauli that preserves the operation. \n",
    "\n",
    "From the DAG, use the `op_nodes()` method to return all of its nodes. The DAG can also be used to collect runs, which are sequences of nodes that run uninterrupted on a qubit. These can be collected as single-qubit runs with `collect_1q_runs`, two-qubit runs with `collect_2q_runs`, and runs of nodes where the instruction names are in a namelist with `collect_runs`.  The `DAGCircuit` has many methods for searching and traversing a graph.  One commonly used method is `topological_op_nodes`, which provides the nodes in a dependency ordering. Other methods such as `bfs_successors` are used primarily to determine how nodes interact with subsequent operations on a DAG. \n",
    "\n",
    "In the example, we want to replace each node, representing an instruction, with a subcircuit built as a mini DAG. The mini DAG has a two-qubit quantum register added to it.  Operations are added to the mini DAG by using `apply_operation_back`, which places the `Instruction` on the mini DAG's output (whereas `apply_operation_front` would place it on the mini DAG's input). The node is then substituted by the mini DAG by using `substitute_node_with_dag`, and the process continues over each instance of `CXGate` and `ECRGate` in the DAG (corresponding to the two-qubit basis gates on IBM backends)."
   ]
  },
  {
   "cell_type": "code",
   "execution_count": 4,
   "metadata": {},
   "outputs": [],
   "source": [
    "from qiskit.dagcircuit import DAGCircuit\n",
    "from qiskit.circuit import Gate\n",
    "from qiskit.circuit.library import CXGate, ECRGate\n",
    "from qiskit.transpiler import PassManager\n",
    "from qiskit.transpiler.basepasses import TransformationPass\n",
    "from qiskit.quantum_info import Operator, pauli_basis\n",
    "\n",
    "import numpy as np\n",
    "\n",
    "from typing import Iterable, Optional"
   ]
  },
  {
   "cell_type": "code",
   "execution_count": 5,
   "metadata": {},
   "outputs": [],
   "source": [
    "class PauliTwirl(TransformationPass):\n",
    "    \"\"\"Add Pauli twirls to two-qubit gates.\"\"\"\n",
    "\n",
    "    def __init__(\n",
    "        self,\n",
    "        gates_to_twirl: Optional[Iterable[Gate]] = None,\n",
    "    ):\n",
    "        \"\"\"\n",
    "        Args:\n",
    "            gates_to_twirl: Names of gates to twirl. The default behavior is to twirl all\n",
    "                two-qubit basis gates, `cx` and `ecr` for IBM backends.\n",
    "        \"\"\"\n",
    "        if gates_to_twirl is None:\n",
    "            gates_to_twirl = [CXGate(), ECRGate()]\n",
    "        self.gates_to_twirl = gates_to_twirl\n",
    "        self.build_twirl_set()\n",
    "        super().__init__()\n",
    "\n",
    "    def build_twirl_set(self):\n",
    "        \"\"\"\n",
    "        Build a set of Paulis to twirl for each gate and store internally as .twirl_set.\n",
    "        \"\"\"\n",
    "        self.twirl_set = {}\n",
    "\n",
    "        # iterate through gates to be twirled\n",
    "        for twirl_gate in self.gates_to_twirl:\n",
    "            twirl_list = []\n",
    "\n",
    "            # iterate through Paulis on left of gate to twirl\n",
    "            for pauli_left in pauli_basis(2):\n",
    "\n",
    "                # iterature through Paulis on right of gate to twirl\n",
    "                for pauli_right in pauli_basis(2):\n",
    "\n",
    "                    # save pairs that produce identical operation as gate to twirl\n",
    "                    if (Operator(pauli_left) @ Operator(twirl_gate)).equiv(Operator(twirl_gate) @ pauli_right):\n",
    "                        twirl_list.append((pauli_left, pauli_right))\n",
    "\n",
    "            self.twirl_set[twirl_gate.name] = twirl_list\n",
    "\n",
    "    def run(\n",
    "        self,\n",
    "        dag: DAGCircuit,\n",
    "    ) -> DAGCircuit:\n",
    "        \n",
    "        # collect all nodes in DAG and proceed if it is to be twirled\n",
    "        twirling_gate_classes = tuple(gate.base_class for gate in self.gates_to_twirl)\n",
    "        for node in dag.op_nodes():\n",
    "            if not isinstance(node.op, twirling_gate_classes):\n",
    "                continue\n",
    "\n",
    "            # random integer to select Pauli twirl pair\n",
    "            pidx = np.random.randint(0, len(self.twirl_set[node.op.name]),)\n",
    "            twirl_pair = self.twirl_set[node.op.name][pidx]\n",
    "\n",
    "            # instantiate mini_dag and attach quantum register\n",
    "            mini_dag = DAGCircuit()\n",
    "            register = QuantumRegister(2)\n",
    "            mini_dag.add_qreg(register)\n",
    "\n",
    "            # apply left Pauli, gate to twirl, and right Pauli to empty mini-DAG\n",
    "            mini_dag.apply_operation_back(twirl_pair[0].to_instruction(), [register[0], register[1]])\n",
    "            mini_dag.apply_operation_back(node.op, [register[0], register[1]])\n",
    "            mini_dag.apply_operation_back(twirl_pair[1].to_instruction(), [register[0], register[1]])\n",
    "\n",
    "            # substitute gate to twirl node with twirling mini-DAG\n",
    "            dag.substitute_node_with_dag(node, mini_dag)\n",
    "\n",
    "        return dag"
   ]
  },
  {
   "cell_type": "markdown",
   "metadata": {},
   "source": [
    "## Use the `PauliTwirl` transpiler pass\n",
    "\n",
    "The following code uses the pass created above to transpile a circuit. Consider a simple circuit with `cx`s and `ecr`s."
   ]
  },
  {
   "cell_type": "code",
   "execution_count": 6,
   "metadata": {},
   "outputs": [
    {
     "data": {
      "image/png": "[encoded data removed]",
      "text/plain": [
       "<Figure size 327.397x204.68 with 1 Axes>"
      ]
     },
     "execution_count": 6,
     "metadata": {},
     "output_type": "execute_result"
    }
   ],
   "source": [
    "qc = QuantumCircuit(3)\n",
    "qc.cx(0, 1)\n",
    "qc.ecr(1, 2)\n",
    "qc.ecr(1, 0)\n",
    "qc.cx(2, 1)\n",
    "qc.draw('mpl', style='iqp')"
   ]
  },
  {
   "cell_type": "markdown",
   "metadata": {},
   "source": [
    "\n",
    "To apply the custom pass, build a pass manager using the `PauliTwirl` pass and run it on 50 circuits. "
   ]
  },
  {
   "cell_type": "code",
   "execution_count": 7,
   "metadata": {},
   "outputs": [],
   "source": [
    "pm = PassManager([PauliTwirl()])\n",
    "twirled_qcs = [pm.run(qc) for _ in range(50)]"
   ]
  },
  {
   "cell_type": "markdown",
   "metadata": {},
   "source": [
    "Each two-qubit gate is now sandwiched between two Paulis."
   ]
  },
  {
   "cell_type": "code",
   "execution_count": 8,
   "metadata": {},
   "outputs": [
    {
     "data": {
      "image/png": "[encoded data removed]",
      "text/plain": [
       "<Figure size 1290.6x204.68 with 1 Axes>"
      ]
     },
     "execution_count": 8,
     "metadata": {},
     "output_type": "execute_result"
    }
   ],
   "source": [
    "twirled_qcs[-1].draw('mpl', style='iqp')"
   ]
  },
  {
   "cell_type": "markdown",
   "metadata": {},
   "source": [
    "The operators are the same if `Operator` from `qiskit.quantum_info` is used:"
   ]
  },
  {
   "cell_type": "code",
   "execution_count": 9,
   "metadata": {},
   "outputs": [
    {
     "data": {
      "text/plain": [
       "True"
      ]
     },
     "execution_count": 9,
     "metadata": {},
     "output_type": "execute_result"
    }
   ],
   "source": [
    "np.alltrue([Operator(twirled_qc).equiv(qc) for twirled_qc in twirled_qcs])"
   ]
  }
 ],
 "metadata": {
  "description": "Learn how to write your own transpiler pass using Qiskit, including DAG circuit representation",
  "kernelspec": {
   "display_name": "qiskit-stable",
   "language": "python",
   "name": "python3"
  },
  "language_info": {
   "codemirror_mode": {
    "name": "ipython",
    "version": 3
   },
   "file_extension": ".py",
   "mimetype": "text/x-python",
   "name": "python",
   "nbconvert_exporter": "python",
   "pygments_lexer": "ipython3",
   "version": "3.9.13"
  },
  "title": "Write your own transpiler pass"
 },
 "nbformat": 4,
 "nbformat_minor": 2
}
